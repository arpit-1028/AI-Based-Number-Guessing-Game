{
  "nbformat": 4,
  "nbformat_minor": 0,
  "metadata": {
    "colab": {
      "provenance": []
    },
    "kernelspec": {
      "name": "python3",
      "display_name": "Python 3"
    },
    "language_info": {
      "name": "python"
    }
  },
  "cells": [
    {
      "cell_type": "code",
      "source": [
        "import random\n",
        "\n",
        "# Greeting message\n",
        "print(\"🎯 Welcome to the Number Guessing Game! 🎯\")\n",
        "\n",
        "# Difficulty level selection\n",
        "print(\"Select Difficulty Level:\")\n",
        "print(\"1. Easy (1-100)\")\n",
        "print(\"2. Medium (1-500)\")\n",
        "print(\"3. Difficult (1-1000)\")\n",
        "\n",
        "difficulty = int(input(\"Enter your choice (1/2/3): \"))\n",
        "\n",
        "# Number range based on difficulty\n",
        "if difficulty == 1:\n",
        "    number = random.randint(1, 100)\n",
        "    max_attempts = 10\n",
        "    print(\"🔹 Easy Mode: Guess the number between 1 to 100\")\n",
        "elif difficulty == 2:\n",
        "    number = random.randint(1, 500)\n",
        "    max_attempts = 15\n",
        "    print(\"🔹 Medium Mode: Guess the number between 1 to 500\")\n",
        "elif difficulty == 3:\n",
        "    number = random.randint(1, 1000)\n",
        "    max_attempts = 20\n",
        "    print(\"🔹 Difficult Mode: Guess the number between 1 to 1000\")\n",
        "else:\n",
        "    print(\"❌ Invalid choice. Please restart the game.\")\n",
        "    exit()\n",
        "\n",
        "# Instructions\n",
        "print(f\"You have {max_attempts} attempts to guess the correct number. Good Luck! 🍀\")\n",
        "\n",
        "# Attempt tracker\n",
        "attempts = 0\n",
        "\n",
        "# Game loop\n",
        "while attempts < max_attempts:\n",
        "    attempts += 1\n",
        "    guess = int(input(f\"Attempt {attempts}/{max_attempts} - Enter your guess: \"))\n",
        "\n",
        "    if guess == number:\n",
        "        if attempts <= 5:\n",
        "            print(f\"🎯 Brilliant!! You guessed it in just {attempts} attempts! 🚀\")\n",
        "        elif attempts <= 10:\n",
        "            print(f\"🎉 Great Job!! You guessed it in {attempts} attempts. 👍\")\n",
        "        else:\n",
        "            print(f\"✅ You guessed it in {attempts} attempts. Good effort! 😊\")\n",
        "        break\n",
        "    elif abs(guess - number) <= 10:\n",
        "        print(\"🔥 Very close! But try again.\")\n",
        "    elif abs(guess - number) <= 20:\n",
        "        print(\"✅ Close! But try again.\")\n",
        "    elif guess < number:\n",
        "        print(\"📈 Too low! Try a higher number.\")\n",
        "    else:\n",
        "        print(\"📉 Too high! Try a smaller number.\")\n",
        "\n",
        "# Game over message\n",
        "if attempts == max_attempts:\n",
        "    print(f\"❌ Game Over! The correct number was {number}. Better luck next time! 🍀\")\n"
      ],
      "metadata": {
        "colab": {
          "base_uri": "https://localhost:8080/"
        },
        "id": "WA7BlUJAg_Q8",
        "outputId": "3cd0af52-8f90-468d-a8a1-f57d561da0da"
      },
      "execution_count": null,
      "outputs": [
        {
          "output_type": "stream",
          "name": "stdout",
          "text": [
            "🎯 Welcome to the Number Guessing Game! 🎯\n",
            "Select Difficulty Level:\n",
            "1. Easy (1-100)\n",
            "2. Medium (1-500)\n",
            "3. Difficult (1-1000)\n",
            "Enter your choice (1/2/3): 2\n",
            "🔹 Medium Mode: Guess the number between 1 to 500\n",
            "You have 15 attempts to guess the correct number. Good Luck! 🍀\n",
            "Attempt 1/15 - Enter your guess: 400\n",
            "📉 Too high! Try a smaller number.\n",
            "Attempt 2/15 - Enter your guess: 123\n",
            "📈 Too low! Try a higher number.\n",
            "Attempt 3/15 - Enter your guess: 200\n",
            "📈 Too low! Try a higher number.\n",
            "Attempt 4/15 - Enter your guess: 260\n",
            "📉 Too high! Try a smaller number.\n",
            "Attempt 5/15 - Enter your guess: 230\n",
            "🔥 Very close! But try again.\n",
            "Attempt 6/15 - Enter your guess: 234\n",
            "🔥 Very close! But try again.\n",
            "Attempt 7/15 - Enter your guess: 238\n",
            "🔥 Very close! But try again.\n",
            "Attempt 8/15 - Enter your guess: 240\n",
            "🔥 Very close! But try again.\n",
            "Attempt 9/15 - Enter your guess: 227\n",
            "🔥 Very close! But try again.\n",
            "Attempt 10/15 - Enter your guess: 226\n",
            "✅ Close! But try again.\n",
            "Attempt 11/15 - Enter your guess: 245\n",
            "🔥 Very close! But try again.\n",
            "Attempt 12/15 - Enter your guess: 248\n",
            "✅ Close! But try again.\n",
            "Attempt 13/15 - Enter your guess: 231\n",
            "🔥 Very close! But try again.\n",
            "Attempt 14/15 - Enter your guess: 233\n",
            "🔥 Very close! But try again.\n"
          ]
        }
      ]
    }
  ]
}